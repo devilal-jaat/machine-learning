{
 "cells": [
  {
   "cell_type": "code",
   "execution_count": 1,
   "id": "55837de6-f081-4979-a954-a7a3fcc9ac8b",
   "metadata": {},
   "outputs": [
    {
     "name": "stderr",
     "output_type": "stream",
     "text": [
      "C:\\Users\\realme\\AppData\\Local\\Programs\\Python\\Python311\\Lib\\site-packages\\sklearn\\datasets\\_openml.py:1002: FutureWarning: The default value of `parser` will change from `'liac-arff'` to `'auto'` in 1.4. You can set `parser='auto'` to silence this warning. Therefore, an `ImportError` will be raised from 1.4 if the dataset is dense and pandas is not installed. Note that the pandas parser may return different data types. See the Notes Section in fetch_openml's API doc for details.\n",
      "  warn(\n"
     ]
    }
   ],
   "source": [
    "from sklearn.datasets import fetch_openml\n",
    "import numpy as np\n",
    "mnist = fetch_openml('mnist_784')"
   ]
  },
  {
   "cell_type": "code",
   "execution_count": 2,
   "id": "c558d314-b42f-4bb1-8386-e1741b0c2690",
   "metadata": {},
   "outputs": [],
   "source": [
    "mnist.target = mnist.target.astype(np.int8)"
   ]
  },
  {
   "cell_type": "code",
   "execution_count": 3,
   "id": "14ffa075-11a9-4927-9915-b8e00a1f1c84",
   "metadata": {},
   "outputs": [],
   "source": [
    "X, y = mnist['data'], mnist['target']"
   ]
  },
  {
   "cell_type": "code",
   "execution_count": 4,
   "id": "b8e8f116-7c9e-46a1-af35-de5d030da3b4",
   "metadata": {},
   "outputs": [],
   "source": [
    "import matplotlib\n",
    "import matplotlib.pyplot as plt"
   ]
  },
  {
   "cell_type": "code",
   "execution_count": 5,
   "id": "fe9451c7-26ad-4c83-b545-f682990748f7",
   "metadata": {},
   "outputs": [
    {
     "data": {
      "text/plain": [
       "0"
      ]
     },
     "execution_count": 5,
     "metadata": {},
     "output_type": "execute_result"
    }
   ],
   "source": [
    "y[440]"
   ]
  },
  {
   "cell_type": "code",
   "execution_count": 6,
   "id": "1be3298d-e4b0-4b50-aa4d-35fa89b9af1d",
   "metadata": {},
   "outputs": [],
   "source": [
    "digit = X.iloc[440]"
   ]
  },
  {
   "cell_type": "code",
   "execution_count": 7,
   "id": "125f5315-7985-41e3-a561-61cfab61171b",
   "metadata": {},
   "outputs": [],
   "source": [
    "digit = digit.values.reshape(28,28)"
   ]
  },
  {
   "cell_type": "code",
   "execution_count": 8,
   "id": "3f7f2bf6-85cb-4df0-9756-619c001be188",
   "metadata": {},
   "outputs": [
    {
     "data": {
      "image/png": "[encoded data removed]",
      "text/plain": [
       "<Figure size 640x480 with 1 Axes>"
      ]
     },
     "metadata": {},
     "output_type": "display_data"
    }
   ],
   "source": [
    "plt.imshow(digit, cmap = matplotlib.cm.binary)\n",
    "plt.axis(\"off\")\n",
    "plt.show()"
   ]
  },
  {
   "cell_type": "code",
   "execution_count": 9,
   "id": "9b0fe4e4-09b3-4519-af36-511c3674e044",
   "metadata": {},
   "outputs": [],
   "source": [
    "X_train = X[:60000]\n",
    "X_test = X[60000:]\n",
    "y_train = y[:60000]\n",
    "y_test = y[60000:]"
   ]
  },
  {
   "cell_type": "code",
   "execution_count": 10,
   "id": "723c9fa5-93d1-4cd7-85d0-e8075591cfc4",
   "metadata": {},
   "outputs": [],
   "source": [
    "shuffling_index = np.random.permutation(60000)"
   ]
  },
  {
   "cell_type": "code",
   "execution_count": 11,
   "id": "7de077f7-00f2-4308-8bdd-bc15e93ab355",
   "metadata": {},
   "outputs": [],
   "source": [
    "X_train, y_train = X_train.iloc[shuffling_index], y_train.iloc[shuffling_index]"
   ]
  },
  {
   "cell_type": "markdown",
   "id": "92ced364-8f4a-49b4-9c07-93c935d0c459",
   "metadata": {},
   "source": [
    "## binary classification"
   ]
  },
  {
   "cell_type": "code",
   "execution_count": 12,
   "id": "297f2ff7-cf67-4748-b2a8-84663b7e7e9e",
   "metadata": {},
   "outputs": [],
   "source": [
    "y_train_6 = y_train == 6\n",
    "y_test_6 = y_test == 6"
   ]
  },
  {
   "cell_type": "code",
   "execution_count": 13,
   "id": "52153764-102f-49e7-a226-4c9d427fcdf5",
   "metadata": {},
   "outputs": [
    {
     "data": {
      "text/html": [
       "<style>#sk-container-id-1 {color: black;}#sk-container-id-1 pre{padding: 0;}#sk-container-id-1 div.sk-toggleable {background-color: white;}#sk-container-id-1 label.sk-toggleable__label {cursor: pointer;display: block;width: 100%;margin-bottom: 0;padding: 0.3em;box-sizing: border-box;text-align: center;}#sk-container-id-1 label.sk-toggleable__label-arrow:before {content: \"▸\";float: left;margin-right: 0.25em;color: #696969;}#sk-container-id-1 label.sk-toggleable__label-arrow:hover:before {color: black;}#sk-container-id-1 div.sk-estimator:hover label.sk-toggleable__label-arrow:before {color: black;}#sk-container-id-1 div.sk-toggleable__content {max-height: 0;max-width: 0;overflow: hidden;text-align: left;background-color: #f0f8ff;}#sk-container-id-1 div.sk-toggleable__content pre {margin: 0.2em;color: black;border-radius: 0.25em;background-color: #f0f8ff;}#sk-container-id-1 input.sk-toggleable__control:checked~div.sk-toggleable__content {max-height: 200px;max-width: 100%;overflow: auto;}#sk-container-id-1 input.sk-toggleable__control:checked~label.sk-toggleable__label-arrow:before {content: \"▾\";}#sk-container-id-1 div.sk-estimator input.sk-toggleable__control:checked~label.sk-toggleable__label {background-color: #d4ebff;}#sk-container-id-1 div.sk-label input.sk-toggleable__control:checked~label.sk-toggleable__label {background-color: #d4ebff;}#sk-container-id-1 input.sk-hidden--visually {border: 0;clip: rect(1px 1px 1px 1px);clip: rect(1px, 1px, 1px, 1px);height: 1px;margin: -1px;overflow: hidden;padding: 0;position: absolute;width: 1px;}#sk-container-id-1 div.sk-estimator {font-family: monospace;background-color: #f0f8ff;border: 1px dotted black;border-radius: 0.25em;box-sizing: border-box;margin-bottom: 0.5em;}#sk-container-id-1 div.sk-estimator:hover {background-color: #d4ebff;}#sk-container-id-1 div.sk-parallel-item::after {content: \"\";width: 100%;border-bottom: 1px solid gray;flex-grow: 1;}#sk-container-id-1 div.sk-label:hover label.sk-toggleable__label {background-color: #d4ebff;}#sk-container-id-1 div.sk-serial::before {content: \"\";position: absolute;border-left: 1px solid gray;box-sizing: border-box;top: 0;bottom: 0;left: 50%;z-index: 0;}#sk-container-id-1 div.sk-serial {display: flex;flex-direction: column;align-items: center;background-color: white;padding-right: 0.2em;padding-left: 0.2em;position: relative;}#sk-container-id-1 div.sk-item {position: relative;z-index: 1;}#sk-container-id-1 div.sk-parallel {display: flex;align-items: stretch;justify-content: center;background-color: white;position: relative;}#sk-container-id-1 div.sk-item::before, #sk-container-id-1 div.sk-parallel-item::before {content: \"\";position: absolute;border-left: 1px solid gray;box-sizing: border-box;top: 0;bottom: 0;left: 50%;z-index: -1;}#sk-container-id-1 div.sk-parallel-item {display: flex;flex-direction: column;z-index: 1;position: relative;background-color: white;}#sk-container-id-1 div.sk-parallel-item:first-child::after {align-self: flex-end;width: 50%;}#sk-container-id-1 div.sk-parallel-item:last-child::after {align-self: flex-start;width: 50%;}#sk-container-id-1 div.sk-parallel-item:only-child::after {width: 0;}#sk-container-id-1 div.sk-dashed-wrapped {border: 1px dashed gray;margin: 0 0.4em 0.5em 0.4em;box-sizing: border-box;padding-bottom: 0.4em;background-color: white;}#sk-container-id-1 div.sk-label label {font-family: monospace;font-weight: bold;display: inline-block;line-height: 1.2em;}#sk-container-id-1 div.sk-label-container {text-align: center;}#sk-container-id-1 div.sk-container {/* jupyter's `normalize.less` sets `[hidden] { display: none; }` but bootstrap.min.css set `[hidden] { display: none !important; }` so we also need the `!important` here to be able to override the default hidden behavior on the sphinx rendered scikit-learn.org. See: https://github.com/scikit-learn/scikit-learn/issues/21755 */display: inline-block !important;position: relative;}#sk-container-id-1 div.sk-text-repr-fallback {display: none;}</style><div id=\"sk-container-id-1\" class=\"sk-top-container\"><div class=\"sk-text-repr-fallback\"><pre>SGDClassifier(max_iter=20, tol=100000000000000000)</pre><b>In a Jupyter environment, please rerun this cell to show the HTML representation or trust the notebook. <br />On GitHub, the HTML representation is unable to render, please try loading this page with nbviewer.org.</b></div><div class=\"sk-container\" hidden><div class=\"sk-item\"><div class=\"sk-estimator sk-toggleable\"><input class=\"sk-toggleable__control sk-hidden--visually\" id=\"sk-estimator-id-1\" type=\"checkbox\" checked><label for=\"sk-estimator-id-1\" class=\"sk-toggleable__label sk-toggleable__label-arrow\">SGDClassifier</label><div class=\"sk-toggleable__content\"><pre>SGDClassifier(max_iter=20, tol=100000000000000000)</pre></div></div></div></div></div>"
      ],
      "text/plain": [
       "SGDClassifier(max_iter=20, tol=100000000000000000)"
      ]
     },
     "execution_count": 13,
     "metadata": {},
     "output_type": "execute_result"
    }
   ],
   "source": [
    "from sklearn.linear_model import SGDClassifier\n",
    "sgd_classifier = SGDClassifier(max_iter = 20, tol=100000000000000000)\n",
    "sgd_classifier.fit(X_train, y_train_6)"
   ]
  },
  {
   "cell_type": "code",
   "execution_count": 14,
   "id": "2a1bb566-8ca5-4b52-a0d8-d1cd18e0d771",
   "metadata": {},
   "outputs": [
    {
     "name": "stderr",
     "output_type": "stream",
     "text": [
      "C:\\Users\\realme\\AppData\\Local\\Programs\\Python\\Python311\\Lib\\site-packages\\sklearn\\base.py:464: UserWarning: X does not have valid feature names, but SGDClassifier was fitted with feature names\n",
      "  warnings.warn(\n"
     ]
    },
    {
     "data": {
      "text/plain": [
       "array([ True])"
      ]
     },
     "execution_count": 14,
     "metadata": {},
     "output_type": "execute_result"
    }
   ],
   "source": [
    "sgd_classifier.predict([X.iloc[32]])"
   ]
  },
  {
   "cell_type": "code",
   "execution_count": 15,
   "id": "b0c31148-85fd-4099-b7a2-a7d8b341b5d2",
   "metadata": {},
   "outputs": [
    {
     "data": {
      "text/plain": [
       "array([0.97873333, 0.981     , 0.9812    , 0.983     ])"
      ]
     },
     "execution_count": 15,
     "metadata": {},
     "output_type": "execute_result"
    }
   ],
   "source": [
    "from sklearn.model_selection import cross_val_score\n",
    "cross_val_score(sgd_classifier, X_train, y_train_6, cv = 4)"
   ]
  },
  {
   "cell_type": "markdown",
   "id": "db27402f-c7ed-4ac3-a319-21164e77c251",
   "metadata": {},
   "source": [
    "### making a dumb classifier"
   ]
  },
  {
   "cell_type": "code",
   "execution_count": 23,
   "id": "b60e4feb-0251-42f5-b014-c127b95aaf9d",
   "metadata": {},
   "outputs": [],
   "source": [
    "from sklearn.base import BaseEstimator\n",
    "\n",
    "class DumbClassifier(BaseEstimator):\n",
    "    def fit(self, X, y = None):\n",
    "        pass\n",
    "    def predict(self, X):\n",
    "        return np.zeros((len(X), 1), dtype = bool)"
   ]
  },
  {
   "cell_type": "code",
   "execution_count": 24,
   "id": "0ff71358-1326-416c-8a7b-de0905c3590b",
   "metadata": {},
   "outputs": [
    {
     "data": {
      "text/plain": [
       "array([0.89941667, 0.89958333, 0.90733333, 0.90083333, 0.89966667])"
      ]
     },
     "execution_count": 24,
     "metadata": {},
     "output_type": "execute_result"
    }
   ],
   "source": [
    "dumbClassifier = DumbClassifier()\n",
    "cross_val_score(dumbClassifier, X_train, y_train_6, scoring = \"accuracy\")"
   ]
  },
  {
   "cell_type": "code",
   "execution_count": 25,
   "id": "fd5bcfe4-6912-464c-8a20-65dc558cdb31",
   "metadata": {},
   "outputs": [
    {
     "data": {
      "text/plain": [
       "0.09863333333333334"
      ]
     },
     "execution_count": 25,
     "metadata": {},
     "output_type": "execute_result"
    }
   ],
   "source": [
    "sum(y_train_6)/60000"
   ]
  },
  {
   "cell_type": "markdown",
   "id": "800c5caa-023a-45e2-8cef-4be777512864",
   "metadata": {},
   "source": [
    "### confusion matrix"
   ]
  },
  {
   "cell_type": "code",
   "execution_count": 27,
   "id": "e808aa0c-495c-4192-8e21-a6e3768f6664",
   "metadata": {},
   "outputs": [],
   "source": [
    "from sklearn.model_selection import cross_val_predict"
   ]
  },
  {
   "cell_type": "code",
   "execution_count": 29,
   "id": "8b40f813-2b5c-411e-8dea-9126aa30079e",
   "metadata": {},
   "outputs": [],
   "source": [
    "y_train_pred = cross_val_predict(sgd_classifier, X_train, y_train_6)"
   ]
  },
  {
   "cell_type": "code",
   "execution_count": 31,
   "id": "62096e82-b54f-4199-83cb-750b33a28ddd",
   "metadata": {},
   "outputs": [],
   "source": [
    "from sklearn.metrics import confusion_matrix"
   ]
  },
  {
   "cell_type": "code",
   "execution_count": 32,
   "id": "228962a8-7d6e-4e0a-ae2d-c66be2960478",
   "metadata": {},
   "outputs": [
    {
     "data": {
      "text/plain": [
       "array([[52723,  1359],\n",
       "       [  411,  5507]], dtype=int64)"
      ]
     },
     "execution_count": 32,
     "metadata": {},
     "output_type": "execute_result"
    }
   ],
   "source": [
    "confusion_matrix(y_train_6, y_train_pred)"
   ]
  },
  {
   "cell_type": "markdown",
   "id": "10e90da9-00bd-4ca5-b529-7674992ec9e4",
   "metadata": {},
   "source": [
    "true - negatives = 52723\n",
    "flase - positives = 1359\n",
    "false - negatives = 411\n",
    "true - positives = 5507"
   ]
  },
  {
   "cell_type": "code",
   "execution_count": 33,
   "id": "855160ec-7e7d-4ffb-8ef8-dc624b85bb9a",
   "metadata": {},
   "outputs": [],
   "source": [
    "y_train_perfect = y_train_6"
   ]
  },
  {
   "cell_type": "code",
   "execution_count": 34,
   "id": "a2dd42c0-d020-458a-a29c-a5c0e19ccf25",
   "metadata": {},
   "outputs": [
    {
     "data": {
      "text/plain": [
       "array([[54082,     0],\n",
       "       [    0,  5918]], dtype=int64)"
      ]
     },
     "execution_count": 34,
     "metadata": {},
     "output_type": "execute_result"
    }
   ],
   "source": [
    "confusion_matrix(y_train_6, y_train_perfect)"
   ]
  },
  {
   "cell_type": "markdown",
   "id": "80da880d-44ed-443a-b43b-1306a3cc120c",
   "metadata": {},
   "source": [
    "### precision"
   ]
  },
  {
   "cell_type": "raw",
   "id": "21d28bb1-7f3c-4671-9db7-dc70691fa80d",
   "metadata": {},
   "source": [
    "precision = true-positives/(true-positives + flase-positives)"
   ]
  },
  {
   "cell_type": "code",
   "execution_count": 35,
   "id": "3ef725e5-27c6-4a02-8857-b5746de15390",
   "metadata": {},
   "outputs": [],
   "source": [
    "from sklearn.metrics import precision_score"
   ]
  },
  {
   "cell_type": "code",
   "execution_count": 38,
   "id": "fd4054f9-df95-438a-b51d-58eed0c440c6",
   "metadata": {},
   "outputs": [
    {
     "data": {
      "text/plain": [
       "0.8020681619574715"
      ]
     },
     "execution_count": 38,
     "metadata": {},
     "output_type": "execute_result"
    }
   ],
   "source": [
    "precision_score(y_train_6, y_train_pred)"
   ]
  },
  {
   "cell_type": "code",
   "execution_count": 40,
   "id": "60083621-d3c2-4366-a36f-7a83cc4aec09",
   "metadata": {},
   "outputs": [
    {
     "data": {
      "text/plain": [
       "1.0"
      ]
     },
     "execution_count": 40,
     "metadata": {},
     "output_type": "execute_result"
    }
   ],
   "source": [
    "precision_score(y_train_6, y_train_perfect)"
   ]
  },
  {
   "cell_type": "markdown",
   "id": "17a8ec10-7af9-4510-a6eb-a995bc4954d9",
   "metadata": {},
   "source": [
    "### recall \n",
    "\n",
    "recall = sensitivity = true-positives/(true-positives + flase-negatives)"
   ]
  },
  {
   "cell_type": "code",
   "execution_count": 41,
   "id": "b518605f-f7bb-41d7-8902-56a858dbfb78",
   "metadata": {},
   "outputs": [],
   "source": [
    "from sklearn.metrics import recall_score"
   ]
  },
  {
   "cell_type": "code",
   "execution_count": 42,
   "id": "418c6e8c-7aba-4c04-a5b5-da93d9ad3e01",
   "metadata": {},
   "outputs": [
    {
     "data": {
      "text/plain": [
       "0.9305508617776276"
      ]
     },
     "execution_count": 42,
     "metadata": {},
     "output_type": "execute_result"
    }
   ],
   "source": [
    "recall_score(y_train_6, y_train_pred)"
   ]
  },
  {
   "cell_type": "markdown",
   "id": "2d35fb6a-3671-4716-a82f-746800c4606e",
   "metadata": {},
   "source": [
    "### f1 scores (harmonic mean)\n",
    "\n",
    "f1 = 2/(1/precision + 1/recall)"
   ]
  },
  {
   "cell_type": "code",
   "execution_count": 44,
   "id": "926c3d75-4fee-4282-aed3-628459e243b3",
   "metadata": {},
   "outputs": [],
   "source": [
    "from sklearn.metrics import f1_score"
   ]
  },
  {
   "cell_type": "code",
   "execution_count": 45,
   "id": "1240f9a2-0111-4ddc-9424-2cef22a6a3bf",
   "metadata": {},
   "outputs": [
    {
     "data": {
      "text/plain": [
       "0.8615456821026283"
      ]
     },
     "execution_count": 45,
     "metadata": {},
     "output_type": "execute_result"
    }
   ],
   "source": [
    "f1_score(y_train_6, y_train_pred)"
   ]
  },
  {
   "cell_type": "code",
   "execution_count": null,
   "id": "5c46eb36-3114-4b74-ad94-93507713c0c1",
   "metadata": {},
   "outputs": [],
   "source": []
  },
  {
   "cell_type": "code",
   "execution_count": null,
   "id": "706862bf-f217-468a-b58f-15a830298b4c",
   "metadata": {},
   "outputs": [],
   "source": []
  },
  {
   "cell_type": "code",
   "execution_count": null,
   "id": "fe61c880-1d42-44e9-804c-f2989974c40e",
   "metadata": {},
   "outputs": [],
   "source": []
  },
  {
   "cell_type": "code",
   "execution_count": 69,
   "id": "eb193b1b-b7b3-4160-a216-58a73ac55a62",
   "metadata": {},
   "outputs": [
    {
     "name": "stderr",
     "output_type": "stream",
     "text": [
      "C:\\Users\\realme\\AppData\\Local\\Programs\\Python\\Python311\\Lib\\site-packages\\sklearn\\base.py:464: UserWarning: X does not have valid feature names, but SGDClassifier was fitted with feature names\n",
      "  warnings.warn(\n"
     ]
    },
    {
     "data": {
      "text/plain": [
       "array([ True])"
      ]
     },
     "execution_count": 69,
     "metadata": {},
     "output_type": "execute_result"
    }
   ],
   "source": [
    "sgd_classifier.predict([X.iloc[69999]])"
   ]
  },
  {
   "cell_type": "code",
   "execution_count": 70,
   "id": "2c9e2c34-b7b3-44b3-a18d-686fc95e5a37",
   "metadata": {},
   "outputs": [],
   "source": [
    "digit = X.iloc[69999].values.reshape(28,28)"
   ]
  },
  {
   "cell_type": "code",
   "execution_count": 71,
   "id": "feee83fa-2af0-47cb-8beb-abbf63b43777",
   "metadata": {},
   "outputs": [
    {
     "data": {
      "image/png": "[encoded data removed]",
      "text/plain": [
       "<Figure size 640x480 with 1 Axes>"
      ]
     },
     "metadata": {},
     "output_type": "display_data"
    }
   ],
   "source": [
    "plt.imshow(digit, cmap = matplotlib.cm.binary)\n",
    "plt.axis(\"off\")\n",
    "plt.show()"
   ]
  },
  {
   "cell_type": "code",
   "execution_count": 73,
   "id": "aed1f525-c7de-4543-b864-f496718530d1",
   "metadata": {},
   "outputs": [
    {
     "name": "stderr",
     "output_type": "stream",
     "text": [
      "C:\\Users\\realme\\AppData\\Local\\Programs\\Python\\Python311\\Lib\\site-packages\\sklearn\\base.py:464: UserWarning: X does not have valid feature names, but SGDClassifier was fitted with feature names\n",
      "  warnings.warn(\n"
     ]
    }
   ],
   "source": [
    "y_score = sgd_classifier.decision_function([X.iloc[69999]])"
   ]
  },
  {
   "cell_type": "code",
   "execution_count": 74,
   "id": "3e780431-9b8b-40c5-b8a0-5b6a0603f150",
   "metadata": {},
   "outputs": [
    {
     "data": {
      "text/plain": [
       "array([ True])"
      ]
     },
     "execution_count": 74,
     "metadata": {},
     "output_type": "execute_result"
    }
   ],
   "source": [
    "threshold = 20000\n",
    "y_score > threshold "
   ]
  },
  {
   "cell_type": "code",
   "execution_count": 78,
   "id": "015d5313-40d8-4d62-894e-19c68b7abca2",
   "metadata": {},
   "outputs": [],
   "source": [
    "from sklearn.metrics import precision_recall_curve"
   ]
  },
  {
   "cell_type": "code",
   "execution_count": 84,
   "id": "871f4501-dbbe-4ad4-913e-41a851d1d8f6",
   "metadata": {},
   "outputs": [],
   "source": [
    "scores = cross_val_predict(sgd_classifier, X_train, y_train_6, method = \"decision_function\")\n",
    "precisions, recalls, thresholds = precision_recall_curve(y_train_6, scores)"
   ]
  },
  {
   "cell_type": "code",
   "execution_count": 85,
   "id": "afb28e4c-9862-452b-b1d7-1b9c2713208d",
   "metadata": {},
   "outputs": [
    {
     "data": {
      "text/plain": [
       "array([0.09863333, 0.09863498, 0.09863662, ..., 1.        , 1.        ,\n",
       "       1.        ])"
      ]
     },
     "execution_count": 85,
     "metadata": {},
     "output_type": "execute_result"
    }
   ],
   "source": [
    "precisions"
   ]
  },
  {
   "cell_type": "code",
   "execution_count": 86,
   "id": "1b575e6e-7223-44ec-be61-b6594ce36efc",
   "metadata": {},
   "outputs": [
    {
     "data": {
      "text/plain": [
       "array([1.00000000e+00, 1.00000000e+00, 1.00000000e+00, ...,\n",
       "       3.37952011e-04, 1.68976005e-04, 0.00000000e+00])"
      ]
     },
     "execution_count": 86,
     "metadata": {},
     "output_type": "execute_result"
    }
   ],
   "source": [
    "recalls"
   ]
  },
  {
   "cell_type": "code",
   "execution_count": 88,
   "id": "3ee3115f-d82a-44ba-85a3-d73c518428eb",
   "metadata": {},
   "outputs": [
    {
     "data": {
      "text/plain": [
       "<matplotlib.legend.Legend at 0x1ba92179f90>"
      ]
     },
     "execution_count": 88,
     "metadata": {},
     "output_type": "execute_result"
    },
    {
     "data": {
      "image/png": "[encoded data removed]",
      "text/plain": [
       "<Figure size 640x480 with 1 Axes>"
      ]
     },
     "metadata": {},
     "output_type": "display_data"
    }
   ],
   "source": [
    "plt.plot(thresholds, precisions[:-1], 'b-', label = \"precision\")\n",
    "plt.plot(thresholds, recalls[:-1], 'm-', label = \"recalls\")\n",
    "plt.xlabel(\"decision threshold\")\n",
    "plt.ylabel('values')\n",
    "plt.legend()"
   ]
  },
  {
   "cell_type": "code",
   "execution_count": 91,
   "id": "364b9231-abcb-4745-ab21-e0bc10ae8516",
   "metadata": {},
   "outputs": [
    {
     "data": {
      "text/plain": [
       "(0.0, 1.0, 0.0, 1.0)"
      ]
     },
     "execution_count": 91,
     "metadata": {},
     "output_type": "execute_result"
    },
    {
     "data": {
      "image/png": "[encoded data removed]",
      "text/plain": [
       "<Figure size 640x480 with 1 Axes>"
      ]
     },
     "metadata": {},
     "output_type": "display_data"
    }
   ],
   "source": [
    "plt.plot(recalls, precisions)\n",
    "plt.xlabel('recall')\n",
    "plt.ylabel('precision')\n",
    "plt.axis([0, 1, 0, 1])"
   ]
  },
  {
   "cell_type": "code",
   "execution_count": 92,
   "id": "c5fd4d98-8b5d-4edc-be23-878d9e46a9c2",
   "metadata": {},
   "outputs": [
    {
     "data": {
      "text/plain": [
       "array([ True,  True,  True, ..., False, False, False])"
      ]
     },
     "execution_count": 92,
     "metadata": {},
     "output_type": "execute_result"
    }
   ],
   "source": [
    "recalls > 0.8"
   ]
  },
  {
   "cell_type": "code",
   "execution_count": 94,
   "id": "c8205f09-69af-4234-8da2-a843aa44a922",
   "metadata": {},
   "outputs": [],
   "source": [
    "t = [i for i, x in enumerate(recalls > 0.8) if x]"
   ]
  },
  {
   "cell_type": "code",
   "execution_count": 100,
   "id": "2fd3f930-516b-4120-8b42-0a3be662663b",
   "metadata": {},
   "outputs": [],
   "source": [
    "operating_index = t[len(t) - 1]\n",
    "operating_recall = recalls[operating_index]\n",
    "operating_precision = precisions[operating_index]\n",
    "operating_threshold = thresholds[operating_index]"
   ]
  },
  {
   "cell_type": "code",
   "execution_count": 101,
   "id": "5caacb4f-11f0-432f-b102-7b7643bdc610",
   "metadata": {},
   "outputs": [
    {
     "data": {
      "text/plain": [
       "95600.25943378599"
      ]
     },
     "execution_count": 101,
     "metadata": {},
     "output_type": "execute_result"
    }
   ],
   "source": [
    "operating_threshold"
   ]
  },
  {
   "cell_type": "code",
   "execution_count": 102,
   "id": "c4bc15d8-7cfa-40f9-833a-ae47c50d8e3a",
   "metadata": {},
   "outputs": [],
   "source": [
    "y_train_pred_80 = (scores > operating_threshold)"
   ]
  },
  {
   "cell_type": "code",
   "execution_count": 103,
   "id": "1e9551a0-8bf9-425e-b1a9-3dc72876edbe",
   "metadata": {},
   "outputs": [
    {
     "data": {
      "text/plain": [
       "0.9553985872855701"
      ]
     },
     "execution_count": 103,
     "metadata": {},
     "output_type": "execute_result"
    }
   ],
   "source": [
    "precision_score(y_train_6, y_train_pred_80)"
   ]
  },
  {
   "cell_type": "code",
   "execution_count": 104,
   "id": "c6ddf256-ef3c-4467-bd15-2cbcb6c11200",
   "metadata": {},
   "outputs": [
    {
     "data": {
      "text/plain": [
       "0.7999324095978371"
      ]
     },
     "execution_count": 104,
     "metadata": {},
     "output_type": "execute_result"
    }
   ],
   "source": [
    "recall_score(y_train_6, y_train_pred_80)"
   ]
  },
  {
   "cell_type": "markdown",
   "id": "57381460-029f-4a1e-96dd-0757fbe70972",
   "metadata": {},
   "source": [
    "### ROC curve"
   ]
  },
  {
   "cell_type": "code",
   "execution_count": 105,
   "id": "791a5b4e-2063-454a-a8ee-1988f9dca7bf",
   "metadata": {},
   "outputs": [],
   "source": [
    "from sklearn.metrics import roc_curve"
   ]
  },
  {
   "cell_type": "code",
   "execution_count": 106,
   "id": "7446e5e0-8058-4d39-8db0-089af1c4b62b",
   "metadata": {},
   "outputs": [],
   "source": [
    "fpr, tpr, thresholds = roc_curve(y_train_6, scores)"
   ]
  },
  {
   "cell_type": "code",
   "execution_count": 110,
   "id": "b15a3a5f-813b-4e72-ae18-4a2728466ae2",
   "metadata": {},
   "outputs": [
    {
     "data": {
      "text/plain": [
       "Text(0, 0.5, 'TPR: true positive rate')"
      ]
     },
     "execution_count": 110,
     "metadata": {},
     "output_type": "execute_result"
    },
    {
     "data": {
      "image/png": "[encoded data removed]",
      "text/plain": [
       "<Figure size 640x480 with 1 Axes>"
      ]
     },
     "metadata": {},
     "output_type": "display_data"
    }
   ],
   "source": [
    "plt.plot(fpr, tpr, lw = 3)\n",
    "plt.plot([0, 1], [0,1], 'k--')\n",
    "plt.axis([0, 1, 0, 1])\n",
    "plt.xlabel(\"FPR: false positive rate\")\n",
    "plt.ylabel(\"TPR: true positive rate\")"
   ]
  },
  {
   "cell_type": "raw",
   "id": "5f2f36a4-be39-4023-a4d4-84c24a97dec2",
   "metadata": {},
   "source": [
    "a good classifier stays away from this dotted line to the top left corner"
   ]
  },
  {
   "cell_type": "raw",
   "id": "89e6833d-bb88-4083-a300-c1f167cedcca",
   "metadata": {},
   "source": [
    "AUC = area under curve"
   ]
  },
  {
   "cell_type": "code",
   "execution_count": 113,
   "id": "9fc7b73a-90e8-48e3-b43c-803a6192010a",
   "metadata": {},
   "outputs": [],
   "source": [
    "from sklearn.metrics import roc_auc_score"
   ]
  },
  {
   "cell_type": "code",
   "execution_count": 115,
   "id": "1a80a631-4a0a-4476-b530-d59ecb2ea1af",
   "metadata": {},
   "outputs": [
    {
     "data": {
      "text/plain": [
       "0.9898983143254647"
      ]
     },
     "execution_count": 115,
     "metadata": {},
     "output_type": "execute_result"
    }
   ],
   "source": [
    "roc_auc_score(y_train_6, scores)"
   ]
  },
  {
   "cell_type": "code",
   "execution_count": 116,
   "id": "3264e931-a8ae-46e4-97e3-9688d57ad551",
   "metadata": {},
   "outputs": [],
   "source": [
    "from sklearn.ensemble import RandomForestClassifier"
   ]
  },
  {
   "cell_type": "code",
   "execution_count": 118,
   "id": "f78de5b8-83bc-44d5-9007-b0820b194461",
   "metadata": {},
   "outputs": [],
   "source": [
    "forest_clf = RandomForestClassifier()"
   ]
  },
  {
   "cell_type": "code",
   "execution_count": 119,
   "id": "20bd263e-b8f4-4050-bb02-0e15d5e6ec4b",
   "metadata": {},
   "outputs": [],
   "source": [
    "probabs = cross_val_predict(forest_clf, X_train, y_train_6, method = \"predict_proba\")"
   ]
  },
  {
   "cell_type": "code",
   "execution_count": 122,
   "id": "5c74f58c-5322-4ca3-a3f8-dbc369b46071",
   "metadata": {},
   "outputs": [],
   "source": [
    "forest_scores = probabs[:,1]"
   ]
  },
  {
   "cell_type": "code",
   "execution_count": 123,
   "id": "8c5ce5ca-18a1-49e9-a274-68f2f05a0bc6",
   "metadata": {},
   "outputs": [],
   "source": [
    "fpr_forest, tpr_forest, threshold_forest = roc_curve(y_train_6, forest_scores)"
   ]
  },
  {
   "cell_type": "code",
   "execution_count": 126,
   "id": "85bd46dc-83a9-4dbd-aa53-60605d14b874",
   "metadata": {},
   "outputs": [
    {
     "data": {
      "text/plain": [
       "Text(0, 0.5, 'TPR: true positive rate')"
      ]
     },
     "execution_count": 126,
     "metadata": {},
     "output_type": "execute_result"
    },
    {
     "data": {
      "image/png": "[encoded data removed]",
      "text/plain": [
       "<Figure size 640x480 with 1 Axes>"
      ]
     },
     "metadata": {},
     "output_type": "display_data"
    }
   ],
   "source": [
    "plt.plot(fpr, tpr,'r:', lw = 3,  label = \"SGD\")\n",
    "plt.plot(fpr_forest, tpr_forest, linewidth = 3, label = \"Forest\")\n",
    "plt.plot([0, 1], [0, 1], 'k--')\n",
    "plt.plot([0, 1], [0,1], 'k--')\n",
    "plt.axis([0, 1, 0, 1])\n",
    "plt.xlabel(\"FPR: false positive rate\")\n",
    "plt.ylabel(\"TPR: true positive rate\")"
   ]
  },
  {
   "cell_type": "code",
   "execution_count": 128,
   "id": "ebf35d22-02f7-4cb0-ad8d-87298a085458",
   "metadata": {},
   "outputs": [
    {
     "data": {
      "text/plain": [
       "0.9991781392902939"
      ]
     },
     "execution_count": 128,
     "metadata": {},
     "output_type": "execute_result"
    }
   ],
   "source": [
    "roc_auc_score(y_train_6, forest_scores)"
   ]
  },
  {
   "cell_type": "code",
   "execution_count": null,
   "id": "ecdaf12f-93e7-4b60-8821-cafa8f99d1d1",
   "metadata": {},
   "outputs": [],
   "source": []
  }
 ],
 "metadata": {
  "kernelspec": {
   "display_name": "Python 3 (ipykernel)",
   "language": "python",
   "name": "python3"
  },
  "language_info": {
   "codemirror_mode": {
    "name": "ipython",
    "version": 3
   },
   "file_extension": ".py",
   "mimetype": "text/x-python",
   "name": "python",
   "nbconvert_exporter": "python",
   "pygments_lexer": "ipython3",
   "version": "3.11.5"
  }
 },
 "nbformat": 4,
 "nbformat_minor": 5
}
